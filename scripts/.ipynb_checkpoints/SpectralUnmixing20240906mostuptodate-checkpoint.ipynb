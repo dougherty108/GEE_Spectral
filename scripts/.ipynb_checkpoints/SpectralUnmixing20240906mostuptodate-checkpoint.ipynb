{
 "cells": [
  {
   "cell_type": "code",
   "execution_count": null,
   "id": "8bab9951",
   "metadata": {},
   "outputs": [],
   "source": [
    "import ee\n",
    "import geemap\n",
    "import pandas as pd\n",
    "import numpy as np\n",
    "#import time"
   ]
  },
  {
   "cell_type": "code",
   "execution_count": null,
   "id": "6709e68e",
   "metadata": {},
   "outputs": [],
   "source": [
    "## authenticates the session with EE\n",
    "ee.Authenticate()\n",
    "\n",
    "# creates the connection with EE. \n",
    "ee.Initialize()"
   ]
  },
  {
   "cell_type": "code",
   "execution_count": null,
   "id": "5abf50a9",
   "metadata": {},
   "outputs": [],
   "source": [
    "# Define a region of interest (ROI) for the analysis\n",
    "roi = ee.Geometry.Rectangle([162.277817, -77.740157, 163.272100, -77.576571])  \n",
    "# Coordinate range that covers the Taylor Valley lakes"
   ]
  },
  {
   "cell_type": "code",
   "execution_count": null,
   "id": "8ceba850",
   "metadata": {},
   "outputs": [],
   "source": [
    "pointed = ee.Geometry.BBox(162.1, -77.73, 163.3, -77.59)"
   ]
  },
  {
   "cell_type": "code",
   "execution_count": null,
   "id": "dd158bee",
   "metadata": {},
   "outputs": [],
   "source": [
    "point = ee.Geometry.BBox(163.195, -77.61, 163.2, -77.6095)"
   ]
  },
  {
   "cell_type": "code",
   "execution_count": null,
   "id": "64911105",
   "metadata": {},
   "outputs": [],
   "source": [
    "Map = geemap.Map(zoom = 10, center = [-77.616808, 163.077952])\n",
    "Map.addLayer(pointed)\n",
    "Map"
   ]
  },
  {
   "cell_type": "code",
   "execution_count": null,
   "id": "86704415",
   "metadata": {},
   "outputs": [],
   "source": [
    "def addImageDate(image):\n",
    "    mission = image.get('SPACECRAFT_ID')\n",
    "    date = image.date().format('YYYY-MM-dd')\n",
    "    missDate = ee.String(mission).cat('_').cat(ee.String(date))\n",
    "    return image.set('missDate', missDate)\n"
   ]
  },
  {
   "cell_type": "code",
   "execution_count": null,
   "id": "49c272fd",
   "metadata": {},
   "outputs": [],
   "source": [
    "start_date = \"2016-03-06\"\n",
    "end_date = \"2024-07-01\""
   ]
  },
  {
   "cell_type": "code",
   "execution_count": null,
   "id": "58ea4a43",
   "metadata": {},
   "outputs": [],
   "source": [
    "ids = ee.List(['LANDSAT_8_2016-11-02', 'LANDSAT_8_2016-11-04', 'LANDSAT_8_2016-11-06', 'LANDSAT_8_2016-11-08', 'LANDSAT_8_2016-11-13', 'LANDSAT_8_2016-11-15', 'LANDSAT_8_2016-12-10', 'LANDSAT_8_2016-12-13', 'LANDSAT_8_2016-12-15', 'LANDSAT_8_2016-12-17', 'LANDSAT_8_2016-12-19', 'LANDSAT_8_2016-12-24', 'LANDSAT_8_2017-01-02', 'LANDSAT_8_2017-01-11', 'LANDSAT_8_2017-01-14', 'LANDSAT_8_2017-01-18', 'LANDSAT_8_2017-01-25', 'LANDSAT_8_2017-01-27', 'LANDSAT_8_2017-01-30', 'LANDSAT_8_2017-02-01', 'LANDSAT_8_2017-11-04', 'LANDSAT_8_2017-11-07', 'LANDSAT_8_2017-11-18', 'LANDSAT_8_2017-11-20', 'LANDSAT_8_2017-11-21', 'LANDSAT_8_2017-11-25', 'LANDSAT_8_2017-11-27', 'LANDSAT_8_2017-11-30', 'LANDSAT_8_2017-12-02', 'LANDSAT_8_2017-12-07', 'LANDSAT_8_2017-12-16', 'LANDSAT_8_2017-12-23', 'LANDSAT_8_2018-01-03', 'LANDSAT_8_2018-01-05', 'LANDSAT_8_2018-01-07', 'LANDSAT_8_2018-01-10', 'LANDSAT_8_2018-01-12', 'LANDSAT_8_2018-01-14', 'LANDSAT_8_2018-01-19', 'LANDSAT_8_2018-01-26', 'LANDSAT_8_2018-01-30', 'LANDSAT_8_2018-11-05', 'LANDSAT_8_2018-11-07', 'LANDSAT_8_2018-11-08', 'LANDSAT_8_2018-11-12', 'LANDSAT_8_2018-11-17', 'LANDSAT_8_2018-11-19', 'LANDSAT_8_2018-11-23', 'LANDSAT_8_2018-11-24', 'LANDSAT_8_2018-11-26', 'LANDSAT_8_2018-11-28', 'LANDSAT_8_2018-11-30', 'LANDSAT_8_2018-12-05', 'LANDSAT_8_2018-12-30', 'LANDSAT_8_2019-01-01', 'LANDSAT_8_2019-01-04', 'LANDSAT_8_2019-01-06', 'LANDSAT_8_2019-01-10', 'LANDSAT_8_2019-01-11', 'LANDSAT_8_2019-01-15', 'LANDSAT_8_2019-01-24', 'LANDSAT_8_2019-01-26', 'LANDSAT_8_2019-11-06', 'LANDSAT_8_2019-11-08', 'LANDSAT_8_2019-11-10', 'LANDSAT_8_2019-11-11', 'LANDSAT_8_2019-11-15', 'LANDSAT_8_2019-11-17', 'LANDSAT_8_2019-11-24', 'LANDSAT_8_2019-11-26', 'LANDSAT_8_2019-11-27', 'LANDSAT_8_2019-12-03', 'LANDSAT_8_2019-12-17', 'LANDSAT_8_2019-12-24', 'LANDSAT_8_2019-12-26', 'LANDSAT_8_2019-12-31', 'LANDSAT_8_2020-01-02', 'LANDSAT_8_2020-01-11', 'LANDSAT_8_2020-01-20', 'LANDSAT_8_2020-10-30', 'LANDSAT_8_2020-11-15', 'LANDSAT_8_2020-11-17', 'LANDSAT_8_2020-11-19', 'LANDSAT_8_2020-11-24', 'LANDSAT_8_2020-11-26', 'LANDSAT_8_2020-11-28', 'LANDSAT_8_2020-11-29', 'LANDSAT_8_2020-12-01', 'LANDSAT_8_2020-12-03', 'LANDSAT_8_2020-12-08', 'LANDSAT_8_2020-12-10', 'LANDSAT_8_2020-12-14', 'LANDSAT_8_2020-12-15', 'LANDSAT_8_2020-12-21', 'LANDSAT_8_2020-12-24', 'LANDSAT_8_2020-12-26', 'LANDSAT_8_2020-12-30', 'LANDSAT_8_2021-01-06', 'LANDSAT_8_2021-01-13', 'LANDSAT_8_2021-01-15', 'LANDSAT_8_2021-01-16', 'LANDSAT_8_2021-01-18', 'LANDSAT_8_2021-01-22', 'LANDSAT_8_2021-02-01', 'LANDSAT_8_2021-10-31', 'LANDSAT_8_2021-11-04', 'LANDSAT_8_2021-11-09', 'LANDSAT_8_2021-11-11', 'LANDSAT_8_2021-11-15', 'LANDSAT_8_2021-11-20', 'LANDSAT_8_2021-12-01', 'LANDSAT_8_2021-12-02', 'LANDSAT_8_2021-12-04', 'LANDSAT_8_2021-12-06', 'LANDSAT_8_2021-12-08', 'LANDSAT_8_2021-12-11', 'LANDSAT_8_2021-12-18', 'LANDSAT_8_2021-12-20', 'LANDSAT_8_2021-12-22', 'LANDSAT_8_2021-12-24', 'LANDSAT_8_2022-01-05', 'LANDSAT_8_2022-01-07', 'LANDSAT_8_2022-01-12', 'LANDSAT_8_2022-01-14', 'LANDSAT_8_2022-01-16', 'LANDSAT_8_2022-01-19', 'LANDSAT_8_2022-01-25', 'LANDSAT_8_2022-01-28', 'LANDSAT_8_2022-11-14', 'LANDSAT_8_2022-11-16', 'LANDSAT_8_2022-11-18', 'LANDSAT_8_2022-11-19', 'LANDSAT_8_2022-11-21', 'LANDSAT_8_2022-11-23', 'LANDSAT_8_2022-11-28', 'LANDSAT_8_2022-12-04', 'LANDSAT_8_2022-12-05', 'LANDSAT_8_2022-12-11', 'LANDSAT_8_2022-12-16', 'LANDSAT_8_2022-12-18', 'LANDSAT_8_2023-01-01', 'LANDSAT_8_2023-01-03', 'LANDSAT_8_2023-01-10', 'LANDSAT_8_2023-01-15', 'LANDSAT_8_2023-01-22', 'LANDSAT_8_2023-01-24', 'LANDSAT_8_2023-11-01', 'LANDSAT_8_2023-11-17', 'LANDSAT_8_2023-11-19', 'LANDSAT_8_2023-11-21', 'LANDSAT_8_2023-12-05', 'LANDSAT_8_2023-12-07', 'LANDSAT_8_2023-12-10', 'LANDSAT_8_2023-12-19', 'LANDSAT_8_2023-12-28', 'LANDSAT_8_2023-12-30', 'LANDSAT_8_2024-01-04', 'LANDSAT_8_2024-01-11', 'LANDSAT_8_2024-01-13', 'LANDSAT_8_2024-01-22', 'LANDSAT_8_2024-01-24'])"
   ]
  },
  {
   "cell_type": "code",
   "execution_count": null,
   "id": "dba350d9",
   "metadata": {},
   "outputs": [],
   "source": [
    "## filter based on the file names found in the same df\n",
    "l8 = ee.ImageCollection('LANDSAT/LC08/C02/T2_TOA')\\\n",
    "    .select(['B2', 'B3', 'B4', 'B5', 'B6', 'B7', 'B8'])\\\n",
    "    .filterDate(start_date, end_date)\\\n",
    "    .map(addImageDate)\\\n",
    "    .filter(ee.Filter.inList(\"missDate\", ids))\\\n",
    "    .filter(ee.Filter.gt('SUN_ELEVATION',20))\\\n",
    "    .filterBounds(pointed)\\\n",
    "    .sort('DATE_ACQUIRED')\n",
    "\n",
    "l_8 = l8.distinct('missDate')\n",
    "\n",
    "#print(l8.getInfo())\n",
    "print(l_8.getInfo())"
   ]
  },
  {
   "cell_type": "code",
   "execution_count": null,
   "id": "eee3fcac",
   "metadata": {},
   "outputs": [],
   "source": [
    "def mosaic_by_date(imcol):\n",
    "    # Convert the image collection to a list of images\n",
    "    imlist = imcol.toList(imcol.size())\n",
    "    \n",
    "    # Get unique dates from the image collection\n",
    "    def get_date(image):\n",
    "        return ee.Image(image).date().format(\"YYYY-MM-dd\")\n",
    "    \n",
    "    unique_dates = imlist.map(lambda im: get_date(im)).distinct()\n",
    "\n",
    "    def create_mosaic(date_str):\n",
    "        date = ee.Date(date_str)\n",
    "        \n",
    "        # Filter images for that day and create a mosaic\n",
    "        mosaic = imcol.filterDate(date, date.advance(1, 'day')).mosaic()\n",
    "        \n",
    "        return mosaic.set({\n",
    "            'system:time_start': date.millis(),\n",
    "            'system:id': date.format('YYYY-MM-dd')\n",
    "        })\n",
    "\n",
    "    # Create mosaics for each unique date\n",
    "    mosaic_imlist = unique_dates.map(create_mosaic)\n",
    "    \n",
    "    return ee.ImageCollection(mosaic_imlist)\n",
    "\n",
    "# Example usage with an image collection (e.g., 'LANDSAT/LC08/C02/T1_L2')\n",
    "s2 = ee.ImageCollection('LANDSAT/LC08/C02/T2_TOA')\\\n",
    "    .select(['B2', 'B3', 'B4', 'B5', 'B6', 'B7', 'B8'])\\\n",
    "    .filterDate(start_date, end_date)\\\n",
    "    .map(addImageDate)\\\n",
    "    .filter(ee.Filter.inList(\"missDate\", ids))\\\n",
    "    .filter(ee.Filter.gt('SUN_ELEVATION',20))\\\n",
    "    .filterBounds(pointed)\\\n",
    "    .sort('DATE_ACQUIRED')\n",
    "s3 = mosaic_by_date(s2)\n",
    "\n",
    "# Print information about the resulting ImageCollection\n",
    "print(s3.size().getInfo())"
   ]
  },
  {
   "cell_type": "code",
   "execution_count": null,
   "id": "ce4a8182",
   "metadata": {},
   "outputs": [],
   "source": [
    "def clip_image(image):\n",
    "    return image.clip(pointed)\n",
    "\n",
    "l8_clipped = s3.map(clip_image)\n",
    "\n",
    "l8_clipped_forexport = l8_clipped\\\n",
    "    .select(['B4', 'B3', \"B2\"])\n",
    "\n",
    "#print(l8_clipped.getInfo())"
   ]
  },
  {
   "cell_type": "code",
   "execution_count": null,
   "id": "d2f19f64",
   "metadata": {},
   "outputs": [],
   "source": [
    "# export the images in the l8_clipped collection\n",
    "def export_image(image):\n",
    "    date_str = ee.Date(image.get('system:time_start')).format('YYYY-MM-dd').getInfo()\n",
    "    task = ee.batch.Export.image.toDrive(\n",
    "        image=image,\n",
    "        description=f'raw_images_{date_str}',\n",
    "        folder='EarthEngine',  # Replace with your folder name\n",
    "        scale=30,                 # Define the scale (e.g., 30 meters per pixel)\n",
    "        crs='EPSG:3031',          # Define the Coordinate Reference System\n",
    "        region=pointed,  # Define the region to export\n",
    "        fileNamePrefix=f'rgbs_{date_str}'\n",
    "    )\n",
    "    task.start()\n",
    "    print(f\"Export started for image with date {date_str}.\")\n",
    "    \n"
   ]
  },
  {
   "cell_type": "code",
   "execution_count": null,
   "id": "4a155e87",
   "metadata": {},
   "outputs": [],
   "source": [
    "def process_images():\n",
    "    image_list = l8_clipped_forexport.toList(l8_clipped.size().getInfo())\n",
    "    num_images = image_list.size().getInfo()\n",
    "    \n",
    "    for i in range(num_images):\n",
    "        image = ee.Image(image_list.get(i))\n",
    "        export_image(image)\n",
    "\n",
    "process_images()"
   ]
  },
  {
   "cell_type": "code",
   "execution_count": null,
   "id": "0a65b3fa",
   "metadata": {},
   "outputs": [],
   "source": [
    "def extract_date(image):\n",
    "    date = ee.Date(image.get('system:time_start'))\n",
    "    return ee.Feature(None, {'date': date.format('YYYY-MM-dd')})\n",
    "\n",
    "# Apply the function to each image in the collection\n",
    "dates = l8_clipped.map(extract_date)\n",
    "\n",
    "# Convert to a list of dates\n",
    "dates_list = dates.aggregate_array('date').getInfo()\n",
    "print(\"Dates of images:\")\n",
    "for date in dates_list:\n",
    "    print(date)\n"
   ]
  },
  {
   "cell_type": "code",
   "execution_count": null,
   "id": "0aa0d550",
   "metadata": {},
   "outputs": [],
   "source": [
    "# define ROI's in specific images that will define lake ice/soil\n",
    "roi_ice_old = ee.Geometry.Rectangle([163.211793, -77.604723, 163.209067, -77.604654])\n",
    "roi_ice = ee.Geometry.Rectangle([163.164470, -77.615536, 163.168480, -77.615106])\n",
    "roi_soil = ee.Geometry.Rectangle([163.078070, -77.625204, 163.07800, -77.625340])\n",
    "\n",
    "roi_soil2 = ee.Geometry.Rectangle([163.221441, -77.596310, 163.214014, -77.597450])\n",
    "roi_glacier_ice = ee.Geometry.Rectangle([163.031019, -77.621755, 163.036190, -77.621301])\n",
    "\n",
    "Map = geemap.Map(zoom = 10, center = [-77.616808, 163.077952])\n",
    "Map.addLayer(roi_ice)\n",
    "Map.addLayer(roi_soil)\n",
    "#Map.addLayer(roi_glacier_ice)\n",
    "Map"
   ]
  },
  {
   "cell_type": "code",
   "execution_count": null,
   "id": "3457d372",
   "metadata": {},
   "outputs": [],
   "source": [
    "# Define endmembers (example: using pseudo-invariant features)\n",
    "# can add more endmembers in later, but need to select image and crop down to \n",
    "# specific regions in a single image\n",
    "lake1 = ee.Image('LANDSAT/LC08/C02/T2_TOA/LC08_055116_20231205').select(['B2', 'B3', 'B4', 'B5', 'B6', 'B7', 'B8'])\n",
    "soil1 = ee.Image('LANDSAT/LC08/C02/T2_TOA/LC08_055116_20231205').select(['B2', 'B3', 'B4', 'B5', 'B6', 'B7', 'B8'])\n",
    "\n",
    "# clip original image down to the specific endmember spots\n",
    "lakeice = lake1.clip(roi_ice)\n",
    "glacier_ice = lake1.clip(roi_glacier_ice)\n",
    "soil = soil1.clip(roi_soil)\n",
    "\n",
    "ice_mean = lakeice.reduceRegion(ee.Reducer.mean()).values()\n",
    "soil_mean = soil.reduceRegion(ee.Reducer.mean()).values()\n",
    "glacier_mean = glacier_ice.reduceRegion(ee.Reducer.mean()).values()\n",
    "\n",
    "print(ice_mean.getInfo())\n",
    "print(soil_mean.getInfo())\n",
    "print(glacier_mean.getInfo())\n",
    "\n",
    "\n",
    "endmembers = [ice_mean, soil_mean]"
   ]
  },
  {
   "cell_type": "code",
   "execution_count": null,
   "id": "2c43f352",
   "metadata": {},
   "outputs": [],
   "source": [
    "def spectral_unmixing_sde(image):\n",
    "    lakeice_sd = image.clip(roi_ice)\n",
    "    soil_sd = image.clip(roi_soil2)\n",
    "    \n",
    "    ice_mean_sd = lakeice_sd.reduceRegion(ee.Reducer.mean()).values()\n",
    "    soil_mean_sd = soil_sd.reduceRegion(ee.Reducer.mean()).values()\n",
    "    \n",
    "    endmembers = [ice_mean_sd, soil_mean_sd]\n",
    "    unmixed_image = image.unmix(endmembers, True, True)\n",
    "    print(endmembers)\n",
    "    return unmixed_image.set('system:time_start', image.get('system:time_start'))"
   ]
  },
  {
   "cell_type": "code",
   "execution_count": null,
   "id": "3ce94bf0",
   "metadata": {},
   "outputs": [],
   "source": [
    "def spectral_unmixing(image):\n",
    "    unmixed_image = image.unmix(endmembers, True, True)\n",
    "    return unmixed_image.set('system:time_start', image.get('system:time_start'))"
   ]
  },
  {
   "cell_type": "code",
   "execution_count": null,
   "id": "73171b4b",
   "metadata": {},
   "outputs": [],
   "source": [
    "# do the spectral unmixing on the example image the endmembers are pulled from, and add the landsat RGB bands in to directly \n",
    "# compare how it does with sediment vs. ice. i was comparing to the ESRI world imagery, but the images are from differnet \n",
    "# years\n",
    "\n",
    "unmixed_example = lake1.unmix(endmembers, True, True)\n",
    "\n",
    "image_viz_params = {\n",
    "    'bands': ['B5', 'B4', 'B3'],\n",
    "    'min': 0,\n",
    "    'max': 0.5,\n",
    "    'gamma': [0.95, 1.1, 1],\n",
    "}\n",
    "\n",
    "Map = geemap.Map(zoom = 10, center = [-77.616808, 163.077952])\n",
    "Map.addLayer(pointed)\n",
    "Map.addLayer(unmixed_example)\n",
    "Map.addLayer(lake1, image_viz_params, 'false color composite')\n",
    "Map.addLayer(roi_ice)\n",
    "Map"
   ]
  },
  {
   "cell_type": "code",
   "execution_count": null,
   "id": "e3d55280",
   "metadata": {},
   "outputs": [],
   "source": [
    "unmixed_collection = l8_clipped.map(spectral_unmixing)\n",
    "\n",
    "print(unmixed_collection.size().getInfo())"
   ]
  },
  {
   "cell_type": "code",
   "execution_count": null,
   "id": "4ba26a9d",
   "metadata": {},
   "outputs": [],
   "source": [
    "Map = geemap.Map(zoom = 10, center = [-77.616808, 163.077952])\n",
    "Map.addLayer(point)\n",
    "Map.addLayer(unmixed_collection.first())\n",
    "Map"
   ]
  },
  {
   "cell_type": "code",
   "execution_count": null,
   "id": "b6cf200a",
   "metadata": {},
   "outputs": [],
   "source": [
    "def export_image(image):\n",
    "    date_str = ee.Date(image.get('system:time_start')).format('YYYY-MM-dd').getInfo()\n",
    "    task = ee.batch.Export.image.toDrive(\n",
    "        image=image,\n",
    "        description=f'Spectral_Unmixing_{date_str}',\n",
    "        folder='SMA_EarthEngine',  # Replace with your folder name\n",
    "        scale=30,                 # Define the scale (e.g., 30 meters per pixel)\n",
    "        crs='EPSG:3031',          # Define the Coordinate Reference System\n",
    "        region=pointed,  # Define the region to export\n",
    "        fileNamePrefix=f'spectral_unmixing_sde_{date_str}'\n",
    "    )\n",
    "    task.start()\n",
    "    print(f\"Export started for image with date {date_str}.\")"
   ]
  },
  {
   "cell_type": "code",
   "execution_count": null,
   "id": "1e723a10",
   "metadata": {},
   "outputs": [],
   "source": [
    "def process_images():\n",
    "    image_list = unmixed_collection.toList(unmixed_collection.size().getInfo())\n",
    "    num_images = image_list.size().getInfo()\n",
    "    \n",
    "    for i in range(num_images):\n",
    "        image = ee.Image(image_list.get(i))\n",
    "        export_image(image)\n",
    "\n",
    "process_images()"
   ]
  },
  {
   "cell_type": "code",
   "execution_count": null,
   "id": "16d4adc8",
   "metadata": {},
   "outputs": [],
   "source": [
    "def export_raws(image):\n",
    "    date_str = ee.Date(image.get('system:time_start')).format('YYYY-MM-dd').getInfo()\n",
    "    task = ee.batch.Export.image.toDrive(\n",
    "        image=image,\n",
    "        description=f'Spectral_Unmixing_{date_str}',\n",
    "        folder='EarthEngine',  # Replace with your folder name\n",
    "        scale=30,                 # Define the scale (e.g., 30 meters per pixel)\n",
    "        crs='EPSG:3031',          # Define the Coordinate Reference System\n",
    "        region=pointed,  # Define the region to export\n",
    "        fileNamePrefix=f'RGB_images{date_str}'\n",
    "    )\n",
    "    task.start()\n",
    "    print(f\"Export started for image with date {date_str}.\")"
   ]
  },
  {
   "cell_type": "code",
   "execution_count": null,
   "id": "7f5e524c",
   "metadata": {},
   "outputs": [],
   "source": [
    "l8_export = l8_clipped\\\n",
    "            .select(['B3', 'B4', 'B5'])"
   ]
  },
  {
   "cell_type": "code",
   "execution_count": null,
   "id": "bf673828",
   "metadata": {},
   "outputs": [],
   "source": [
    "### export all of the RGB values for the same images to do a direct comparison\n",
    "def export_images():\n",
    "    image_list = l8_export.toList(l8_export.size().getInfo())\n",
    "    num_images = image_list.size().getInfo()\n",
    "    \n",
    "    for i in range(num_images):\n",
    "        image = ee.Image(image_list.get(i))\n",
    "        export_raws(image)\n",
    "\n",
    "export_images()"
   ]
  },
  {
   "cell_type": "code",
   "execution_count": null,
   "id": "8cedec95",
   "metadata": {},
   "outputs": [],
   "source": []
  }
 ],
 "metadata": {
  "kernelspec": {
   "display_name": "Python 3 (ipykernel)",
   "language": "python",
   "name": "python3"
  },
  "language_info": {
   "codemirror_mode": {
    "name": "ipython",
    "version": 3
   },
   "file_extension": ".py",
   "mimetype": "text/x-python",
   "name": "python",
   "nbconvert_exporter": "python",
   "pygments_lexer": "ipython3",
   "version": "3.9.13"
  }
 },
 "nbformat": 4,
 "nbformat_minor": 5
}
